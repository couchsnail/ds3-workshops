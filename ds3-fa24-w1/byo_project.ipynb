{
 "cells": [
  {
   "cell_type": "code",
   "execution_count": 1,
   "metadata": {},
   "outputs": [],
   "source": [
    "import pandas as pd\n",
    "import numpy as np"
   ]
  },
  {
   "cell_type": "markdown",
   "metadata": {},
   "source": [
    "Below, this notebook imports the games csv file and creates a dataframe. What do you notice about it?"
   ]
  },
  {
   "cell_type": "code",
   "execution_count": null,
   "metadata": {},
   "outputs": [],
   "source": [
    "data = pd.read_csv(\"games.csv\")\n",
    "data"
   ]
  },
  {
   "cell_type": "markdown",
   "metadata": {},
   "source": [
    "A good data science practice is visualizing the data. To start, why don't we try plotting the relationship between reviews and ratings? Does the graph tell us anything? Feel free to play around with the parameters."
   ]
  },
  {
   "cell_type": "code",
   "execution_count": null,
   "metadata": {},
   "outputs": [],
   "source": [
    "data.plot(kind='scatter',x='Reviews',y='Rating')"
   ]
  },
  {
   "cell_type": "markdown",
   "metadata": {},
   "source": [
    "As a data scientist, you'll have to analyze parts of the data to find general trends. Why don't you try some preliminary trend-searching with these practice problems?"
   ]
  },
  {
   "cell_type": "code",
   "execution_count": 4,
   "metadata": {},
   "outputs": [],
   "source": [
    "# Here's a practice problem: How would you find all games made by Nintendo?\n",
    "# Hint: The string \"Nintendo\" must be somewhere in the column value\n",
    "def nintendo_made(games_data):\n",
    "    '''\n",
    "    A function to return all games in the games.csv file made by Nintendo\n",
    "\n",
    "    Args:\n",
    "        games_data (DataFrame): the DataFrame holding all data from games.csv\n",
    "    \n",
    "    Returns:\n",
    "        list: a list containing the titles of all games made by Nintendo\n",
    "    '''"
   ]
  },
  {
   "cell_type": "code",
   "execution_count": 5,
   "metadata": {},
   "outputs": [],
   "source": [
    "# Here's another practice problem: What are the top 10 rated games?\n",
    "def top_10(games_data):\n",
    "    '''\n",
    "    A function to return the top 10 rated games of the games.csv file\n",
    "\n",
    "    Args:\n",
    "        games_data (DataFrame): the DataFrame holding all data from games.csv\n",
    "    \n",
    "    Returns:\n",
    "        list: a list containing the titles of the top 10 rated games\n",
    "    '''\n",
    "    ..."
   ]
  },
  {
   "cell_type": "markdown",
   "metadata": {},
   "source": [
    "Compare the top 10 most played games and those made by Nintendo. Are there any overlap? If so, what steps would you next take to analyze the data? Can you draw any conclusions about the data?"
   ]
  },
  {
   "cell_type": "code",
   "execution_count": null,
   "metadata": {},
   "outputs": [],
   "source": [
    "top_10_games = top_10(data)\n",
    "print(f\"Top 10 Most Played Games: {top_10_games}\")\n",
    "\n",
    "nintendo_games = nintendo_made(data)\n",
    "print(f\"Games made by Nintendo: {nintendo_games}\")"
   ]
  }
 ],
 "metadata": {
  "kernelspec": {
   "display_name": "myenv",
   "language": "python",
   "name": "python3"
  },
  "language_info": {
   "codemirror_mode": {
    "name": "ipython",
    "version": 3
   },
   "file_extension": ".py",
   "mimetype": "text/x-python",
   "name": "python",
   "nbconvert_exporter": "python",
   "pygments_lexer": "ipython3",
   "version": "3.10.13"
  }
 },
 "nbformat": 4,
 "nbformat_minor": 2
}
